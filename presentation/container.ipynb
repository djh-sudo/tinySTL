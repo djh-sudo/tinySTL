{
 "cells": [
  {
   "cell_type": "markdown",
   "id": "85c8cb2a",
   "metadata": {
    "slideshow": {
     "slide_type": "slide"
    }
   },
   "source": [
    "<div align='center' ><font size='70'>Container Overview</font></div>"
   ]
  },
  {
   "cell_type": "markdown",
   "id": "21ac1ae8",
   "metadata": {
    "slideshow": {
     "slide_type": "slide"
    }
   },
   "source": [
    "<img align=\"right\" src=\"./src/container-overview.png\" width=\"55%\"/>\n",
    "\n",
    "## 容器 **Container**\n",
    "\n",
    "#### 序列式容器 **Sequence Container**\n",
    "* **array(build-in)**\n",
    "* **vector**\n",
    "    * **heap** *priority-queue*\n",
    "* **list**\n",
    "* **slist**（非公开）\n",
    "* **deque**\n",
    "    * **stack**（**Adaptor**）\n",
    "    * **queue**（**Adaptor**）\n",
    "\n",
    "#### 关联式容器 **Associative Container**\n",
    "* **RB-Tree**（非公开）\n",
    "    * **set / multi-set**\n",
    "    * **map / multi-map**\n",
    "* **hash-table**\n",
    "    * **hash-set (unordered_set)**\n",
    "    * **hash-map (unordered_map)**"
   ]
  },
  {
   "cell_type": "markdown",
   "id": "dd2a51b5",
   "metadata": {
    "slideshow": {
     "slide_type": "subslide"
    }
   },
   "source": [
    "## 序列式容器\n",
    "\n",
    "* 可序，但未必有序\n",
    "\n",
    "* **vector** 内存(**Virtual Memory**)连续，自动扩容数组\n",
    "\n",
    "* **list** 内存不连续，双向链表\n",
    "\n",
    "* **deque** 对外模拟连续内存，但实际分段\n",
    "    * **queue** 队列，本质是**Adaptor**\n",
    "    * **stack** 栈，本质是**Adaptor**\n",
    "<br></br>\n",
    "\n",
    "## 关系式容器\n",
    "\n",
    "* 不关注顺序，不可外部排序\n",
    "\n",
    "* **set / map**，内部有序，底层是红黑树 **RB-Tree**\n",
    "\n",
    "* **unordered_set / unordered_map**，无序，底层是哈希表 **hash-table**"
   ]
  },
  {
   "cell_type": "markdown",
   "id": "d3b55ef6",
   "metadata": {
    "slideshow": {
     "slide_type": "slide"
    }
   },
   "source": [
    "<div align='center'><font size='70'>End</font></div>"
   ]
  }
 ],
 "metadata": {
  "celltoolbar": "幻灯片",
  "kernelspec": {
   "display_name": "Python 3 (ipykernel)",
   "language": "python",
   "name": "python3"
  },
  "language_info": {
   "codemirror_mode": {
    "name": "ipython",
    "version": 3
   },
   "file_extension": ".py",
   "mimetype": "text/x-python",
   "name": "python",
   "nbconvert_exporter": "python",
   "pygments_lexer": "ipython3",
   "version": "3.9.13"
  }
 },
 "nbformat": 4,
 "nbformat_minor": 5
}
