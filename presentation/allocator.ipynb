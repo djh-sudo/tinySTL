{
 "cells": [
  {
   "cell_type": "markdown",
   "id": "f4735781",
   "metadata": {
    "slideshow": {
     "slide_type": "slide"
    }
   },
   "source": [
    "<div align='center' ><font size='70'>Allocator</font></div>"
   ]
  },
  {
   "cell_type": "markdown",
   "id": "d00d6de9",
   "metadata": {
    "slideshow": {
     "slide_type": "slide"
    }
   },
   "source": [
    "## **Allocator**\n",
    "\n",
    "* 空间配置器接管了所有**内存**分配工作\n",
    "\n",
    "* **SGI STL** 提供了两级分配器，**一级**分配器和**二级**分配器\n",
    "\n",
    "* **一级**分配器直接使用**malloc**和**free**，**二级**分配器则提供了更强大的内存管理功能\n",
    "\n",
    "```c++\n",
    "\n",
    "#define _OOM_ \"out of memory!!!\"\n",
    "\n",
    "class MallocAlloc {\n",
    "\n",
    "public:\n",
    "\tinline static void* allocate(size_t n) {\n",
    "\t\tvoid* result = ::malloc(n);\n",
    "\t\tif (nullptr == result) throw _OOM_;\n",
    "\t\treturn result;\n",
    "\t}\n",
    "\n",
    "\tinline static void deallocate(void* p, size_t /*pad*/) {\n",
    "\t\t::free(p);\n",
    "\t}\n",
    "\n",
    "\tinline static void* reallocate(void* p, size_t/*old_Sz*/, size_t new_sz) {\n",
    "\t\tvoid* result = ::realloc(p, new_sz);\n",
    "\t\tif (nullptr == result) throw _OOM_;\n",
    "\t\treturn result;\n",
    "\t}\n",
    "};\n",
    "```"
   ]
  },
  {
   "cell_type": "markdown",
   "id": "3d4f72a3",
   "metadata": {
    "slideshow": {
     "slide_type": "subslide"
    }
   },
   "source": [
    "## 特殊的空间配置器 **std::alloc**\n",
    "\n",
    "* **allocator**是基于基本内存配置/释放的**简单**封装，其没有考虑效率上的优化\n",
    "\n",
    "* **malloc / new**效率很低？ [**[malloc.c]**](./code/malloc.c)\n",
    "\n",
    "* [**CSAPP Malloc Lab**](https://github.com/kcxain/CSAPP-Lab/tree/master/initial_labs/08_Malloc%20Lab/traces)\n",
    "\n",
    "* <img text-align=\"center\" src=\"./src/block.png\" width=\"70%\"/>\n",
    "\n",
    "* 第二级配置器管理内存方式与**malloc**相当**类似**\n"
   ]
  },
  {
   "cell_type": "markdown",
   "id": "2916d6ae",
   "metadata": {
    "slideshow": {
     "slide_type": "subslide"
    }
   },
   "source": [
    "## 设计思想\n",
    "\n",
    "* 为了减少内存碎片（**cookie**），提高内存利用率\n",
    "\n",
    "* 第2级配置器采用**memory pool**的设计思想，管理小于**128bytes**的内存块\n",
    "\n",
    "* **new**的实现包含了两个部分\n",
    "    * **::operator new**分配内存（相当于**malloc**）\n",
    "    * 调用构造函数，构造对象\n",
    "\n",
    "* **delete**同理\n",
    "    * 调用析构函数，析构对象\n",
    "    * **::operator delete**释放内存（相当于**free**）"
   ]
  },
  {
   "cell_type": "markdown",
   "id": "309a182b",
   "metadata": {
    "slideshow": {
     "slide_type": "subslide"
    }
   },
   "source": [
    "<img align=\"right\" src=\"./src/memory-pool.jpg\" width=\"45%\" border=\"0\">\n",
    "\n",
    "## 小区块管理\n",
    "\n",
    "* **SGI STL**将**内存池**划分为**16**个链表\n",
    "\n",
    "* 分别管理**8**，**16**，**24**，...，**128**字节的内存块\n",
    "\n",
    "* 16个链表的**节点**，每个节点包含一个**指针**\n",
    "\n",
    "* 大于**128**字节的内存块，采用第一级配置器分配\n",
    "\n",
    "<br></br><br></br>\n",
    "\n",
    "```c\n",
    "struct Obj {\n",
    "\tstruct Obj* m_free_list_link;\n",
    "};\n",
    "```"
   ]
  },
  {
   "cell_type": "markdown",
   "id": "e3ad622b",
   "metadata": {
    "slideshow": {
     "slide_type": "subslide"
    }
   },
   "source": [
    "## [实现细节](https://github.com/steveLauwh/SGI-STL/blob/master/SGI-STL%20V3.3/stl_alloc.h)\n",
    "\n",
    "* 辅助函数\n",
    "    * **round_up**：将**bytes**上调至**8**的倍数\n",
    "    * **free_list_index**：根据**bytes**计算在**16**个链表中的位置\n",
    "    * **refill**：从内存池中取空间给**free_list**使用\n",
    "    * **chunk_alloc**：从内存池中取空间给**refill**使用\n",
    "* 对外接口\n",
    "    * **allocate**：分配内存\n",
    "    * **deallocate**：释放内存\n",
    "    * **reallocate**：重新分配内存"
   ]
  },
  {
   "cell_type": "markdown",
   "id": "daec7cd5",
   "metadata": {
    "slideshow": {
     "slide_type": "subslide"
    }
   },
   "source": [
    "## 构造与析构\n",
    "\n",
    "* **STL**分工精细，将**内存分配/释放**和**对象构造/析构**分开\n",
    "\n",
    "* **allocator**只负责内存分配，**construct**负责[对象构造](https://github.com/steveLauwh/SGI-STL/blob/master/SGI-STL%20V3.3/stl_construct.h)\n",
    "\n",
    "* **性能**——偏特化（**partial specialization**）\n",
    "\n",
    "* [**stl_construct.h**](https://github.com/steveLauwh/SGI-STL/blob/master/SGI-STL%20V3.3/stl_construct.h)\n",
    "\n",
    "```c++\n",
    "\ttemplate<typename T1, typename T2>\n",
    "\tinline void Construct(T1* p, const T2& value) {\n",
    "\t\tnew ((void*)p) T1(value);\n",
    "\t}\n",
    "\n",
    "\ttemplate<typename T1>\n",
    "\tinline void Construct(T1* p) {\n",
    "\t\tnew ((void*)p) T1();\n",
    "\t}\n",
    "\t// special \n",
    "\tinline void Construct(int* p) {}\n",
    "    // ... ...\n",
    "\n",
    "\tinline void Construct(int* p, const int value) { *p = value; }\n",
    "    // ... ...\n",
    "\n",
    "\ttemplate<typename T1, typename T2>\n",
    "\tinline void construct(T1* p, const T2& value) {\n",
    "\t\tConstruct(p, value);\n",
    "\t}\n",
    "\n",
    "\ttemplate<typename T1>\n",
    "\tinline void construct(T1* p) {\n",
    "\t\tConstruct(p);\n",
    "\t}\n",
    "```"
   ]
  },
  {
   "cell_type": "markdown",
   "id": "dc8d2137",
   "metadata": {
    "slideshow": {
     "slide_type": "subslide"
    }
   },
   "source": [
    "<img align=\"right\" src=\"./src/construct.png\" width=\"50%\" border=\"0\">\n",
    "\n",
    "## **Destroy** 示意图\n",
    "\n",
    "* 根据**对象**是否具备**trivial destructor**\n",
    "\n",
    "* **trivial destructor**，**destroy**什么都不做\n",
    "\n",
    "* **non-trivial destructor**，调用**destructor**\n",
    "\n",
    "* **编译器**怎么知道**destructor**是否是**trivial**？\n",
    "\n",
    "* [**type_traits**](https://en.cppreference.com/w/cpp/header/type_traits) [**[type_traits.cpp]**](./code/type_traits.cpp)"
   ]
  },
  {
   "cell_type": "markdown",
   "id": "6e058e6b",
   "metadata": {
    "slideshow": {
     "slide_type": "slide"
    }
   },
   "source": [
    "## 内存基本处理[函数](https://github.com/steveLauwh/SGI-STL/blob/master/SGI-STL%20V3.3/stl_uninitialized.h)\n",
    "\n",
    "* **uninitialized_copy**\n",
    "    * 上层 **copy**\n",
    "    * 批量复制对象\n",
    "\n",
    "* **uninitialized_fill**\n",
    "    * 上层 **fill**\n",
    "    * 批量填充对象（给定起终点）\n",
    "\n",
    "* **uninitialized_fill_n**\n",
    "    * 上层 **fill_n**\n",
    "    * 批量填充对象（给定数量）\n"
   ]
  },
  {
   "cell_type": "markdown",
   "id": "0d499478",
   "metadata": {
    "slideshow": {
     "slide_type": "subslide"
    }
   },
   "source": [
    "<img align=\"right\" src=\"./src/uninitialized_copy.png\" width=\"60%\" border=\"0\">\n",
    "\n",
    "## 具体实现\n",
    "\n",
    "* **偏特化**无处不在\n",
    "\n",
    "* 指针类型，采用**memmove()**\n",
    "\n",
    "* is [**Plain Old Data (POD)**](https://www.educative.io/answers/what-are-plain-old-data-pod-types-in-cpp) type\n",
    "\n",
    "    * **false_type**，构造函数\n",
    "\n",
    "    * **true_type**，**copy()**\n"
   ]
  },
  {
   "cell_type": "markdown",
   "id": "21281f02",
   "metadata": {
    "slideshow": {
     "slide_type": "slide"
    }
   },
   "source": [
    "<div align='center'><font size='70'>End</font></div>"
   ]
  }
 ],
 "metadata": {
  "celltoolbar": "幻灯片",
  "kernelspec": {
   "display_name": "Python 3 (ipykernel)",
   "language": "python",
   "name": "python3"
  },
  "language_info": {
   "codemirror_mode": {
    "name": "ipython",
    "version": 3
   },
   "file_extension": ".py",
   "mimetype": "text/x-python",
   "name": "python",
   "nbconvert_exporter": "python",
   "pygments_lexer": "ipython3",
   "version": "3.9.13"
  }
 },
 "nbformat": 4,
 "nbformat_minor": 5
}
