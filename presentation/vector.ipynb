{
 "cells": [
  {
   "cell_type": "markdown",
   "id": "85c8cb2a",
   "metadata": {
    "slideshow": {
     "slide_type": "slide"
    }
   },
   "source": [
    "<div align='center' ><font size='70'>Vector</font></div>"
   ]
  },
  {
   "cell_type": "markdown",
   "id": "21ac1ae8",
   "metadata": {
    "slideshow": {
     "slide_type": "slide"
    }
   },
   "source": [
    "## 动态数组 **Vector**\n",
    "\n",
    "* 存储特性\n",
    "    * 动态扩容数组\n",
    "    * 内部维护一段**连续**内存（元素放**满**了怎么办）\n",
    "    * 本质还是**array**，但**扩容算法**值得学习\n",
    "\n",
    "* 迭代器\n",
    "    * 连续内存，拥有 **Random Access Iterator**\n",
    "    * 迭代器天然有**raw pointer**特性\n",
    "    * **可能失效**\n",
    "\n",
    "```c++\n",
    "    template<typename T, typename Alloc=alloc>\n",
    "    class vector {\n",
    "    public:\n",
    "        typedef T value_type;\n",
    "        typedef value_type* pointer;\n",
    "        typedef value_type* iterator;\n",
    "        typedef value_type& reference;\n",
    "        typedef size_t size_type;\n",
    "        typedef ptrdiff_t difference_type;\n",
    "    \n",
    "    protected:\n",
    "        // allocator ...\n",
    "        iterator start;\n",
    "        iterator finish;\n",
    "        iterator end_of_storage;\n",
    "    \n",
    "    public:\n",
    "        // functions ...\n",
    "    };\n",
    "```"
   ]
  },
  {
   "cell_type": "markdown",
   "id": "406dbff0",
   "metadata": {
    "slideshow": {
     "slide_type": "subslide"
    }
   },
   "source": [
    "## vector扩容算法\n",
    "\n",
    "* 不断 **push_back**，观察 **size**和**capacity** 变化\n",
    "* [**测试**](./code/vector.cpp)环境\n",
    "    * **Windows 11 Visual Studio 2022 17.3.6**\n",
    "    * **WSL 2 Ubuntu 18.04 LTS, GCC 7.5.0** <font color=red>I/O非常慢</font>\n",
    "<img align=\"center\" src=\"./src/MSVC-vector.svg\" width=\"85%\" border=\"0\">"
   ]
  },
  {
   "cell_type": "markdown",
   "id": "dd2a51b5",
   "metadata": {
    "slideshow": {
     "slide_type": "subslide"
    }
   },
   "source": [
    "## [**push_back**](../src/stl_vector.h)实现\n",
    "\n",
    "* **vector**对外最常见的接口\n",
    "\n",
    "```c++\n",
    "    void push_back(const value_type& x) {\n",
    "        if (finish != end_of_storage) {\n",
    "            construct(finish, x);\n",
    "            ++finish;\n",
    "        }\n",
    "        else\n",
    "            insert_aux(end(), x);\n",
    "    }\n",
    "```\n",
    "\n",
    "* 给定迭代器，**insert**可以在**任意位置**插入元素\n",
    "\n",
    "* 给定迭代器，**erase**可以在**任意位置**删除元素\n",
    "\n",
    "* **效率**呢？\n",
    "\n",
    "* 拷贝 **int**也就是**4 bytes**，如果**object**大小是**512bytes**\n",
    "\n",
    "* **C++11** [**move**](https://en.cppreference.com/w/cpp/utility/move)语义，减少拷贝代价\n",
    "\n",
    "* 如果只保留**push_back**和**pop_back**，**vector**天然就是一个**stack** （**Adaptor**）"
   ]
  },
  {
   "cell_type": "markdown",
   "id": "b3c41b82",
   "metadata": {
    "slideshow": {
     "slide_type": "slide"
    }
   },
   "source": [
    "<div align='center' ><font size='70'>Move or Copy</font></div>"
   ]
  },
  {
   "cell_type": "markdown",
   "id": "31cda425",
   "metadata": {
    "slideshow": {
     "slide_type": "subslide"
    }
   },
   "source": [
    "## **move**语义对比\n",
    "\n",
    "* 实验环境\n",
    "    * **Windows 11 Visual Studio 2022 17.3.6**（带**move**语义）\n",
    "    * **Windows 11 Visual Studio 2022 SGI STLv3.3**\n",
    "\n",
    "    <img align=\"center\" src=\"./src/vector_move_compare.png\" width=\"100%\" border=\"0\">"
   ]
  },
  {
   "cell_type": "markdown",
   "id": "7fc89fc7",
   "metadata": {
    "slideshow": {
     "slide_type": "subslide"
    }
   },
   "source": [
    "## 具体数据\n",
    "\n",
    "```c++\n",
    "    #define LONG_STRING \"new looooooooooooooong string\"\n",
    "\n",
    "    int main() {\n",
    "        constexpr int NUMBER = 10000000;\n",
    "        std::vector<std::string>bg;\n",
    "        for (int i = 0; i < NUMBER; ++i) {\n",
    "            bg.push_back(LONG_STRING);\n",
    "        }\n",
    "        std::cout << bg.size() << std::endl;\n",
    "        for (auto& it : bg) {\n",
    "            assert(it == LONG_STRING);\n",
    "        }\n",
    "        return 0;\n",
    "}\n",
    "```\n",
    "\n",
    "* **x86-release** **10000000**个元素（**assert**不占用时间）\n",
    "* 时间单位：**秒(s)**\n",
    "    * **MSVC** **4.19s**\n",
    "    * **SGI** **51.30s**\n",
    "* 内存峰值\n",
    "    * **MSVC** **852MB**\n",
    "    * **SGI** **1.3GB**\n",
    "* 热路径\n",
    "    * **MSVC** **emplace_back**\n",
    "    * **SGI** **destroy** **operator::new**\n",
    "* 如果是**int**呢？\n",
    "    * 两者几乎一致"
   ]
  },
  {
   "cell_type": "markdown",
   "id": "d3b55ef6",
   "metadata": {
    "slideshow": {
     "slide_type": "slide"
    }
   },
   "source": [
    "<div align='center'><font size='70'>End</font></div>"
   ]
  }
 ],
 "metadata": {
  "celltoolbar": "幻灯片",
  "kernelspec": {
   "display_name": "Python 3 (ipykernel)",
   "language": "python",
   "name": "python3"
  },
  "language_info": {
   "codemirror_mode": {
    "name": "ipython",
    "version": 3
   },
   "file_extension": ".py",
   "mimetype": "text/x-python",
   "name": "python",
   "nbconvert_exporter": "python",
   "pygments_lexer": "ipython3",
   "version": "3.9.13"
  }
 },
 "nbformat": 4,
 "nbformat_minor": 5
}
