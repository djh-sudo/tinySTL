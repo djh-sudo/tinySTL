{
 "cells": [
  {
   "cell_type": "markdown",
   "id": "a5518ba4",
   "metadata": {},
   "source": [
    "<div align='center' ><font size='70'>Algorithm</font></div>"
   ]
  },
  {
   "cell_type": "markdown",
   "id": "597f4670",
   "metadata": {
    "slideshow": {
     "slide_type": "slide"
    }
   },
   "source": [
    "## 算法 **Algorithm**\n",
    "\n",
    "* 大部分算法较为基础\n",
    "\n",
    "* 全部基于**迭代器**操作，脱离特定**容器**\n",
    "\n",
    "* 性能未必最优\n",
    "\n",
    "> **accumulate, sort, max_element, next_permutation, lower_bound, random_shuffle ...**\n",
    "\n",
    "* 分类\n",
    "    * ~~简单和困难~~\n",
    "    * 质变(**mutating**)和非质变(**non-mutating**)\n",
    "\n",
    "* 区间左闭右开 **[first, last)**\n"
   ]
  },
  {
   "cell_type": "markdown",
   "id": "001dcf45",
   "metadata": {
    "slideshow": {
     "slide_type": "slide"
    }
   },
   "source": [
    "<div align='center' ><font size='70'>Demonstration</font></div>"
   ]
  },
  {
   "cell_type": "markdown",
   "id": "28ac6219",
   "metadata": {
    "slideshow": {
     "slide_type": "subslide"
    }
   },
   "source": [
    "\n",
    "## [**copy**](../src/stl_algobase.h)\n",
    "\n",
    "<img align=\"center\" src=\"./src/copy.png\" width=\"85%\" border=\"0\">\n",
    "* **偏特化**无处不在\n",
    "* 指针？迭代器？**has trivial operator=**？\n"
   ]
  },
  {
   "cell_type": "markdown",
   "id": "b6cb9f36",
   "metadata": {
    "slideshow": {
     "slide_type": "subslide"
    }
   },
   "source": [
    "<img align=\"right\" src=\"./src/sort_compare.svg\" width=\"65%\" border=\"0\">\n",
    "\n",
    "## [**sort**](https://github.com/steveLauwh/SGI-STL/blob/master/SGI-STL%20V3.3/stl_algo.h)\n",
    "\n",
    "* **Insertion Sort** *O(n^2)*\n",
    "\n",
    "* **Quick Sort** *O(nlogn)*\n",
    "\n",
    "* **Heap Sort** *O(nlogn)*\n",
    "\n",
    "* 快排面临**分割**恶化的情况\n",
    "\n",
    "* **IntroSort!** *O(nlogn)*\n",
    "\n",
    "* [测试](./code/sort_compare.cpp)环境**不变**\n"
   ]
  },
  {
   "cell_type": "markdown",
   "id": "b25e11c9",
   "metadata": {
    "slideshow": {
     "slide_type": "subslide"
    }
   },
   "source": [
    "## [**next_permutation**](https://github.com/steveLauwh/SGI-STL/blob/master/SGI-STL%20V3.3/stl_algo.h)\n",
    "\n",
    "<img align=\"right\" src=\"./src/next_permutation.png\" width=\"60%\" border=\"0\">\n",
    "\n",
    "* [**LeetCode 31. Next Permutation**](https://leetcode.cn/problems/next-permutation/)\n",
    "\n",
    "* 逆序寻找**相邻的升序对** **(i, ii)**\n",
    "\n",
    "* 逆序寻找**第一个大于i的元素** **(j)**\n",
    "\n",
    "* 交换**i, j**\n",
    "\n",
    "* 逆序 **[ii, end)**\n"
   ]
  },
  {
   "cell_type": "markdown",
   "id": "df2d47c1",
   "metadata": {
    "slideshow": {
     "slide_type": "slide"
    }
   },
   "source": [
    "<div align='center' ><font size='70'>End</font></div>"
   ]
  }
 ],
 "metadata": {
  "celltoolbar": "幻灯片",
  "kernelspec": {
   "display_name": "Python 3 (ipykernel)",
   "language": "python",
   "name": "python3"
  },
  "language_info": {
   "codemirror_mode": {
    "name": "ipython",
    "version": 3
   },
   "file_extension": ".py",
   "mimetype": "text/x-python",
   "name": "python",
   "nbconvert_exporter": "python",
   "pygments_lexer": "ipython3",
   "version": "3.9.13"
  }
 },
 "nbformat": 4,
 "nbformat_minor": 5
}
