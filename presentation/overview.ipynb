{
 "cells": [
  {
   "cell_type": "markdown",
   "id": "85c8cb2a",
   "metadata": {
    "slideshow": {
     "slide_type": "slide"
    }
   },
   "source": [
    "<div align='center' ><font size='70'>Standard Template Library (STL)</font></div>\n",
    "<div align='center'><font size='70'>Overview</font></div>"
   ]
  },
  {
   "cell_type": "markdown",
   "id": "e9039857",
   "metadata": {
    "slideshow": {
     "slide_type": "subslide"
    }
   },
   "source": [
    "<img align=\"right\" src=\"./src/relationship.png\" width=\"60%\"/>\n",
    "\n",
    "## STL 六大组件\n",
    "\n",
    "* **分配器** **Allocator**\n",
    "\n",
    "* **容器** **Container**\n",
    "\n",
    "* **迭代器** **Iterator**\n",
    "\n",
    "* **算法** **Algorithm**\n",
    "\n",
    "* **适配器** **Adapter**\n",
    "\n",
    "* **仿函数** **Functor**"
   ]
  },
  {
   "cell_type": "markdown",
   "id": "b85ed7f9",
   "metadata": {
    "slideshow": {
     "slide_type": "subslide"
    }
   },
   "source": [
    "<img align=\"right\" src=\"./src/MSVC-vector-source-code.png\" width=\"60%\"/>\n",
    "\n",
    "## [阅读STL源码](https://www.boost.org/sgi/stl/other_resources.html)\n",
    "\n",
    "* 大佬的方式\n",
    "  * [**MSVC STL**](https://github.com/microsoft/STL)\n",
    "  * 奇怪的下划线\n",
    "  * 许多宏定义和检查\n",
    "  * C++11新特性\n",
    "\n",
    "* ~~正确的方式~~\n",
    "  * [**SGI STL v3.3**](https://github.com/steveLauwh/SGI-STL)\n",
    "  * 核心代码未变\n",
    "  * 可读性较高\n"
   ]
  },
  {
   "cell_type": "markdown",
   "id": "dd2f4b89",
   "metadata": {
    "slideshow": {
     "slide_type": "slide"
    }
   },
   "source": [
    "## **reference**\n",
    "\n",
    "* [侯捷. STL 源码剖析[M]. 华中科技大学出版社, 2002.](https://d1wqtxts1xzle7.cloudfront.net/33286427/stl%E6%BA%90%E7%A0%81%E5%88%86%E6%9E%90-libre.pdf?1395540083=&response-content-disposition=inline%3B+filename%3DStl.pdf&Expires=1689927775&Signature=eADb9falJVEoDNaUiTJOTXWNPxMcBTUXQmEPOC-3srLrU7p2kTnqRpAgcEBNx3t6J7LjOBN-CooVPJk1F3V1tY-l2dCC-AVjqU-OzMPLqTrC~yPPvmNJg1laTbbV67AwYDIouiYmh9z66CDYhZtjzVw8tw5jIwqct1O0NbroX3zICrW~k-NS4Vwoyh53XUjyAd7-~IK4A-Ql-tY51V3ZYVT~WKkzNrXOY7knbCwkX5tf8irhcCfs5F~oQbO26hOnEa9ObME~zFOK9g75zWkku4sX4w6DCyZiLW9vXcLh759ZiB-5XFBh3AruBAK5wEhmhSKR32HkE1D4SZnn5GNlsA__&Key-Pair-Id=APKAJLOHF5GGSLRBV4ZA)\n",
    "\n",
    "\n",
    "* [Bryant R E, David Richard O H, David Richard O H. Computer systems: a programmer's perspective[M]. Upper Saddle River: Prentice Hall, 2003.](http://gec.di.uminho.pt/Discip/MaisAC/CS-APP_Bryant/csapp.preview123.pdf)\n",
    "\n",
    "\n",
    "* [C++ Reference](https://en.cppreference.com/w/)\n",
    "\n",
    "* [StackOverflow](https://stackoverflow.com/)\n",
    "\n",
    "* [PPT format](https://jyywiki.cn/OS/2022/)\n"
   ]
  },
  {
   "cell_type": "markdown",
   "id": "d3b55ef6",
   "metadata": {
    "slideshow": {
     "slide_type": "slide"
    }
   },
   "source": [
    "<div align='center'><font size='70'>End</font></div>"
   ]
  }
 ],
 "metadata": {
  "celltoolbar": "幻灯片",
  "kernelspec": {
   "display_name": "Python 3 (ipykernel)",
   "language": "python",
   "name": "python3"
  },
  "language_info": {
   "codemirror_mode": {
    "name": "ipython",
    "version": 3
   },
   "file_extension": ".py",
   "mimetype": "text/x-python",
   "name": "python",
   "nbconvert_exporter": "python",
   "pygments_lexer": "ipython3",
   "version": "3.9.13"
  }
 },
 "nbformat": 4,
 "nbformat_minor": 5
}
