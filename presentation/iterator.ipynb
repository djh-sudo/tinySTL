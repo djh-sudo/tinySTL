{
 "cells": [
  {
   "cell_type": "markdown",
   "id": "85c8cb2a",
   "metadata": {
    "slideshow": {
     "slide_type": "slide"
    }
   },
   "source": [
    "<div align='center' ><font size='70'>Iterator</font></div>"
   ]
  },
  {
   "cell_type": "markdown",
   "id": "21ac1ae8",
   "metadata": {
    "slideshow": {
     "slide_type": "slide"
    }
   },
   "source": [
    "## 迭代器 **Iterator**\n",
    "\n",
    "* 泛型指针 / **智能**指针\n",
    "\n",
    "* 将容器（**container**）和算法（**algorithm**）联系在一起\n",
    "\n",
    "* 迭代器与特定容器**高度绑定**\n",
    "\n",
    "* 迭代器所指对象类型 —— **traits**\n",
    "\n",
    "```c++\n",
    "    int main() {\n",
    "    std::vector<int>::iterator vit;\n",
    "    std::list<int>::iterator lit;\n",
    "    std::unordered_map<int, int>::iterator mit;\n",
    "    std::multiset<int>::iterator sit;\n",
    "    // std::stack<int>::iterator it; // error!\n",
    "    return 0;\n",
    "}\n",
    "```"
   ]
  },
  {
   "cell_type": "markdown",
   "id": "60fee09f",
   "metadata": {
    "slideshow": {
     "slide_type": "subslide"
    }
   },
   "source": [
    "## **traits**\n",
    "\n",
    "* 迭代器内部定义对象类型\n",
    "\n",
    "* 如何处理**原生指针（raw pointer）**\n",
    "\n",
    "* 再次用到**偏特化（template partial specification）**\n",
    "\n",
    "```c++\n",
    "    template<typename T>\n",
    "    struct Iter{\n",
    "        typedef T value_type;\n",
    "        // ...\n",
    "    };\n",
    "\n",
    "    // dereference\n",
    "    template<typename I>\n",
    "    typename I::value_type func(I *iter) { return *iter;}\n",
    "```"
   ]
  },
  {
   "cell_type": "markdown",
   "id": "f724333d",
   "metadata": {
    "slideshow": {
     "slide_type": "subslide"
    }
   },
   "source": [
    "## **iterator_traits**\n",
    "\n",
    "* 迭代器类型**萃取器**\n",
    "\n",
    "```c++\n",
    "    template<typename I>\n",
    "    struct iterator_traits {\n",
    "        typedef typename I::value_type value_type;\n",
    "    };\n",
    "```\n",
    "\n",
    "* 原生指针——偏特化\n",
    "\n",
    "* **int\\*** **const int\\*** 等也能得到正确结果\n",
    "\n",
    "```c++\n",
    "    // raw pointer\n",
    "    template<typename T>\n",
    "    struct iterator_traits<T*> {\n",
    "        typedef T value_type;\n",
    "    };\n",
    "\n",
    "    // raw const pointer\n",
    "    template<typename T>\n",
    "    struct iterator_traits<const T*> {\n",
    "        typedef T value_type;\n",
    "    }\n",
    "```"
   ]
  },
  {
   "cell_type": "markdown",
   "id": "6aa0b8f5",
   "metadata": {
    "slideshow": {
     "slide_type": "slide"
    }
   },
   "source": [
    "<img align=\"right\" src=\"./src/iterator_traits.png\" width=\"50%\"/>\n",
    "\n",
    "## 迭代器**5**种**特性**\n",
    "\n",
    "* **iterator_category** 迭代器类型\n",
    "\n",
    "* **value_type** 元素类型\n",
    "\n",
    "* **difference_type** 迭代器**距离**\n",
    "\n",
    "* **pointer** 指针\n",
    "\n",
    "* **reference** 引用\n",
    "\n",
    "```c++\n",
    "    template<typename I>\n",
    "    struct iterator_traits {\n",
    "        typedef typename I::iterator_category iterator_category;\n",
    "        typedef typename I::value_type value_type;\n",
    "        typedef typename I::difference_type difference_type;\n",
    "        typedef typename I::pointer pointer;\n",
    "        typedef typename I::reference reference;\n",
    "    }\n",
    "```"
   ]
  },
  {
   "cell_type": "markdown",
   "id": "8bf8c0fc",
   "metadata": {
    "slideshow": {
     "slide_type": "subslide"
    }
   },
   "source": [
    "## 迭代器其余**4**种特性\n",
    "\n",
    "* **different type**\n",
    "    * 描述两个迭代器之间距离\n",
    "    * 原生指针偏特化\n",
    "\n",
    "```c++\n",
    "    template<class T*>\n",
    "    struct iterator_traits<T*> {\n",
    "        // ...\n",
    "        typedef ptrdiff_t difference_type;\n",
    "    };\n",
    "    // const pointer\n",
    "```\n",
    "\n",
    "*  **reference type / pointer type**\n",
    "    * 引用和指针\n",
    "    * 原生指针偏特化\n",
    "\n",
    "```c++\n",
    "    template<class T>\n",
    "    struct iterator_traits<T*> {\n",
    "          // ...\n",
    "          typedef T* pointer;\n",
    "          typedef T& reference;\n",
    "    };\n",
    "    // const pointer ans const reference\n",
    "```\n",
    "\n",
    "* 容器里可以放**reference**吗\n",
    "    * **std::vector<int&>**合法吗？"
   ]
  },
  {
   "cell_type": "markdown",
   "id": "04fc3bd2",
   "metadata": {
    "slideshow": {
     "slide_type": "subslide"
    }
   },
   "source": [
    "<img align=\"right\" src=\"./src/iterator_category.png\" width=\"50%\"/>\n",
    "\n",
    "## 迭代器分类\n",
    "\n",
    "* **Input Iterator** **(read only)**\n",
    "\n",
    "* **Output Iterator** **(write only)**\n",
    "\n",
    "* **Forward Iterator** **向前移动**\n",
    "\n",
    "* **Bidirectional Iterator** **双向移动**\n",
    "\n",
    "* **Random Access Iterator** **随机访问**\n",
    "\n",
    "```c++\n",
    "struct input_iterator_tag { };\n",
    "struct output_iterator_tag { };\n",
    "struct forward_iterator_tag : public input_iterator_tag{ };\n",
    "struct bidirectional_iterator_tag : public forward_iterator_tag{ };\n",
    "struct random_access_iterator_tag :public bidirectional_iterator_tag { } ;\n",
    "```"
   ]
  },
  {
   "cell_type": "markdown",
   "id": "df28fc18",
   "metadata": {
    "slideshow": {
     "slide_type": "subslide"
    }
   },
   "source": [
    "## **demonstration**\n",
    "\n",
    "* 以**distance**为例，求迭代器之间距离\n",
    "\n",
    "* **性能考虑**，函数重载\n",
    "\n",
    "```c++\n",
    "    template<typename InputIterator>\n",
    "    inline iterator_traits<InputIterator>::difference_type\n",
    "    __distance(InputIterator first, InputIterator last,\n",
    "               input_iterator_tag) {\n",
    "        iterator_traits<InputIterator>::difference_type n = 0;\n",
    "        while (first != last) { ++first; ++n;}\n",
    "        return n;\n",
    "    }\n",
    "\n",
    "    template<typename RandomAccessIterator>\n",
    "    inline iterator_traits<RandomAccessIterator>::difference_type\n",
    "    __distance(RandomAccessIterator first, RandomAccessIterator last, \n",
    "               random_access_iterator_tag) {\n",
    "        return last - first;\n",
    "    }\n",
    "```\n",
    "\n",
    "* **Question**: **原生指针**属于哪种迭代器？\n",
    "\n",
    "* 同样的操作，不同迭代器之间性能差异很大 [**list**](../src/stl_list.h) [**vector**](..\\src\\stl_vector.h)\n",
    "    * **for(int i = 0; i < xx.** <font color=\"red\" font-weight=\"bold\">size()</font> **; ++i) {/\\* TODO \\*/}**"
   ]
  },
  {
   "cell_type": "code",
   "execution_count": null,
   "id": "37c43348",
   "metadata": {
    "vscode": {
     "languageId": "plaintext"
    }
   },
   "outputs": [],
   "source": []
  },
  {
   "cell_type": "markdown",
   "id": "d3b55ef6",
   "metadata": {
    "slideshow": {
     "slide_type": "slide"
    }
   },
   "source": [
    "<div align='center'><font size='70'>End</font></div>"
   ]
  }
 ],
 "metadata": {
  "celltoolbar": "幻灯片",
  "kernelspec": {
   "display_name": "Python 3 (ipykernel)",
   "language": "python",
   "name": "python3"
  },
  "language_info": {
   "codemirror_mode": {
    "name": "ipython",
    "version": 3
   },
   "file_extension": ".py",
   "mimetype": "text/x-python",
   "name": "python",
   "nbconvert_exporter": "python",
   "pygments_lexer": "ipython3",
   "version": "3.9.13"
  }
 },
 "nbformat": 4,
 "nbformat_minor": 5
}
