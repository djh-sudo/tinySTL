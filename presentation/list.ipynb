{
 "cells": [
  {
   "cell_type": "markdown",
   "id": "79398a1b",
   "metadata": {
    "slideshow": {
     "slide_type": "slide"
    }
   },
   "source": [
    "<div align='center' ><font size='70'>List</font></div>"
   ]
  },
  {
   "cell_type": "markdown",
   "id": "3b8aa8fc",
   "metadata": {
    "slideshow": {
     "slide_type": "slide"
    }
   },
   "source": [
    "## 双向链表\n",
    "\n",
    "* 存储特性\n",
    "    * 比单向链表多一个**prev**指针域\n",
    "    * 动态添加节点，无需像**vector**扩容\n",
    "    * [**LeetCode LRUCache**](https://leetcode.cn/problems/lru-cache/)\n",
    "\n",
    "* 迭代器\n",
    "    * 内存不连续，但可以前后移动\n",
    "    * **BidirectionalIterator**\n",
    "    * 任意位置插入、删除时间复杂度**O(1)**\n",
    "\n",
    "```c++\n",
    "    template<typename T>\n",
    "    struct __list_node {\n",
    "        __list_node* prev;\n",
    "        __list_node* next;\n",
    "        T data;\n",
    "    };\n",
    "\n",
    "    template<typename T, typename Alloc=alloc>\n",
    "    class list{\n",
    "    protected:\n",
    "        typedef __list_node<T> list_node;\n",
    "    public:\n",
    "        typedef list_node* link_type;\n",
    "    protected:\n",
    "        link_type node;\n",
    "    };\n",
    "```"
   ]
  },
  {
   "cell_type": "markdown",
   "id": "58233b72",
   "metadata": {
    "slideshow": {
     "slide_type": "subslide"
    }
   },
   "source": [
    "## **list** 基本操作\n",
    "> **push_front, push_back, pop_front, pop_back, insert, erase, clear, remove, unique, splice, merge, reverse, sort**\n",
    "\n",
    "* 大部分去除模板等语言特性，可以作为[**LeetCode**](https://leetcode.cn/tag/linked-list/problemset/)练习题\n",
    "\n",
    "* [合并有序链表 **merge**](https://leetcode.cn/problems/merge-two-sorted-lists/)\n",
    "* [反转链表 **reverse**](https://leetcode-cn.com/problems/reverse-linked-list/)\n",
    "\n",
    "* [删除重复元素 **unique**](https://leetcode.cn/problems/remove-duplicates-from-sorted-list/)\n",
    "\n",
    "* [删除链表中的节点 **remove**](https://leetcode-cn.com/problems/delete-node-in-a-linked-list/)\n",
    "\n",
    "* [链表排序 **sort**](https://leetcode-cn.com/problems/sort-list/)\n",
    "    * **list.sort() vs. std::sort()**\n",
    "    * [**list.sort()**](https://link.zhihu.com/?target=http%3A//www.cplusplus.com/reference/list/list/sort/) 采用**归并排序**，时间复杂度**O(nlogn)**"
   ]
  },
  {
   "cell_type": "markdown",
   "id": "76822217",
   "metadata": {
    "slideshow": {
     "slide_type": "subslide"
    }
   },
   "source": [
    "<img align=\"right\" src=\"./src/transfer.png\" width=\"40%\" border=\"0\">\n",
    "\n",
    "## [**transfer**](../src/stl_list.h) 操作\n",
    "\n",
    "* 将 **[first, last)** 剪切至**pos**之前\n",
    " \n",
    "\t```c++\n",
    "\tprotected:\n",
    "\tinline void transfer(iterator pos, iterator first, iterator last) {\n",
    "\n",
    "\t\t// Ctrl+X the [first, last) in front of the pos\n",
    "\t\t// Remove [first, last)\n",
    "\t\tif (pos == last) return;\n",
    "\n",
    "\t\tlast.m_node->m_prev->m_next = pos.m_node;   // (1)\n",
    "\t\tfirst.m_node->m_prev->m_next = last.m_node; // (2)\n",
    "\t\tpos.m_node->m_prev->m_next = first.m_node;  // (3)\n",
    "\n",
    "\t\t// splice [first, last) into its new position\n",
    "\t\tlist_node_base* tmp = pos.m_node->m_prev;   // (4)\n",
    "\t\tpos.m_node->m_prev = last.m_node->m_prev;   // (5)\n",
    "\t\tlast.m_node->m_prev = first.m_node->m_prev; // (6)\n",
    "\t\tfirst.m_node->m_prev = tmp;                 // (7)\n",
    "\n",
    "\t}\n",
    "\t```\n",
    "* **merge**, **splice**, **reverse**,等操作都是基于**transfer**实现的\n",
    "\n",
    "* 保留**push_back**和**pop_front**接口，队列（**Adaptor**）\n",
    "\n",
    "* 保留**push_back**和**pop_back**接口，栈（**Adaptor**）"
   ]
  },
  {
   "cell_type": "markdown",
   "id": "a08d6d86",
   "metadata": {
    "slideshow": {
     "slide_type": "slide"
    }
   },
   "source": [
    "<div align='center' ><font size='70'>End</font></div>"
   ]
  }
 ],
 "metadata": {
  "celltoolbar": "幻灯片",
  "kernelspec": {
   "display_name": "Python 3 (ipykernel)",
   "language": "python",
   "name": "python3"
  },
  "language_info": {
   "codemirror_mode": {
    "name": "ipython",
    "version": 3
   },
   "file_extension": ".py",
   "mimetype": "text/x-python",
   "name": "python",
   "nbconvert_exporter": "python",
   "pygments_lexer": "ipython3",
   "version": "3.9.13"
  }
 },
 "nbformat": 4,
 "nbformat_minor": 5
}
