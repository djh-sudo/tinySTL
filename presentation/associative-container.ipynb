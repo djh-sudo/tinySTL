{
 "cells": [
  {
   "cell_type": "markdown",
   "id": "021d6770",
   "metadata": {
    "slideshow": {
     "slide_type": "slide"
    }
   },
   "source": [
    "<div align='center' ><font size='70'>Associative Container</font></div>"
   ]
  },
  {
   "cell_type": "markdown",
   "id": "16a43903",
   "metadata": {
    "slideshow": {
     "slide_type": "slide"
    }
   },
   "source": [
    "## 关联式容器\n",
    "\n",
    "* **map / set**\n",
    "    <img align=\"right\" src=\"./src/rb_tree.png\" width=\"65%\" border=\"0\">\n",
    "    * 有序 **key**必须可序\n",
    "    * 红黑树 [知乎](https://zhuanlan.zhihu.com/p/273829162)\n",
    "\n",
    "* **unordered_map / unordered_set**\n",
    "    * 无序 **key**必须可哈希\n",
    "    * 哈希表\n",
    "\n",
    "* **map**和**set**区别？\n",
    "\n",
    "* 集合元素可以重复吗？**multiset / multimap**\n"
   ]
  },
  {
   "cell_type": "markdown",
   "id": "68bd32d4",
   "metadata": {
    "slideshow": {
     "slide_type": "subslide"
    }
   },
   "source": [
    "## [**set**](../../224758/Source/tinySTL/src/stl_set.h)\n",
    "\n",
    "* 内含一个**rb_tree**\n",
    "\n",
    "* **key**就是**value**\n",
    "\n",
    "* **set**的**value**不可修改 **const_iterator**\n",
    "\n",
    "* 大部分接口**rb_tree**已提供\n",
    "\n",
    "```c++\n",
    "    template<typename Key, typename Compare=less<Key>,typename Alloc=alloc>\n",
    "class set {\n",
    "public:\n",
    "\ttypedef Key key_type;\n",
    "\ttypedef Key value_type;\n",
    "\ttypedef Compare key_compare;\n",
    "\ttypedef Compare value_compare;\n",
    "\n",
    "private:\n",
    "\ttypedef RB_Tree<key_type, value_type, Identity<value_type>, key_compare, Alloc> RB_type;\n",
    "\tRB_type m_rbt;\n",
    "public:\n",
    "\ttypedef typename RB_type::const_pointer pointer;\n",
    "\ttypedef typename RB_type::const_pointer const_pointer;\n",
    "\ttypedef typename RB_type::reference reference;\n",
    "\ttypedef typename RB_type::const_reference const_reference;\n",
    "\ttypedef typename RB_type::const_iterator iterator;\n",
    "\ttypedef typename RB_type::const_iterator const_iterator;\n",
    "    // ...\n",
    "};\n",
    "```"
   ]
  },
  {
   "cell_type": "markdown",
   "id": "844dbdbc",
   "metadata": {
    "slideshow": {
     "slide_type": "subslide"
    }
   },
   "source": [
    "## [**map**](../../224758/Source/tinySTL/src/stl_map.h)\n",
    "\n",
    "* 内含一个**rb_tree**\n",
    "\n",
    "* **key**和**value**不同\n",
    "\n",
    "* **map**的**value**可修改 **iterator**\n",
    "\n",
    "* **value_type**是**pair**\n",
    "\n",
    "```c++\n",
    "template<typename Key, typename Tp, typename Compare=less<Key>,typename Alloc=alloc>\n",
    "class map {\n",
    "// ...\n",
    "public:\n",
    "\t// value_compare\n",
    "\tclass value_compare :public binary_function<value_type, value_type, bool> {\n",
    "\t\tfriend class map<Key, Tp, Compare, Alloc>;\n",
    "\tprotected:\n",
    "\t\tCompare cmp;\n",
    "\t\tvalue_compare(Compare c) :cmp(c) {}\n",
    "\tpublic:\n",
    "\t\tinline bool operator()(const value_type& x, const value_type& y)const {\n",
    "\t\t\treturn cmp(x.first, y.first);\n",
    "\t\t}\n",
    "\t};\n",
    "public:\n",
    "\ttypedef Key key_type;\n",
    "\ttypedef Tp data_type;\n",
    "\ttypedef pair<const Key, Tp> value_type;\n",
    "    // ...\n",
    "private:\n",
    "\ttypedef RB_Tree<key_type, value_type, Select1st<value_type>, key_compare, Alloc> RB_type;\n",
    "\tRB_type m_rbt;\n",
    "// ...\n",
    "};\n",
    "```"
   ]
  },
  {
   "cell_type": "markdown",
   "id": "b93006c0",
   "metadata": {
    "slideshow": {
     "slide_type": "slide"
    }
   },
   "source": [
    "<div align='center' ><font size='70'>hashtable</font></div>"
   ]
  },
  {
   "cell_type": "markdown",
   "id": "68fb1d25",
   "metadata": {
    "slideshow": {
     "slide_type": "subslide"
    }
   },
   "source": [
    "<img align=\"right\" src=\"./src/hashtable.png\" width=\"40%\" border=\"0\">\n",
    "\n",
    "## [**hashtable**](../src/stl_hashtable.h)\n",
    "* **RB_Tree** 搜索、插入、删除 *O(logn)*\n",
    "\n",
    "* **hashtable** 搜索、插入、删除 *O(1)*\n",
    "\n",
    "* 散列函数是关键 **vs.** [**Cryptographic hash function**](https://en.wikipedia.org/wiki/Cryptographic_hash_function)\n",
    "\n",
    "* **hashtable** 采用**开链法**解决冲突\n",
    "\n",
    "* **iterator** 类型 **forward_iterator**\n",
    "\n",
    "* 内含一个**vector** 如何减少**碰撞**"
   ]
  },
  {
   "cell_type": "markdown",
   "id": "d46a5ac7",
   "metadata": {
    "slideshow": {
     "slide_type": "subslide"
    }
   },
   "source": [
    "## **hashtable** 实现\n",
    "\n",
    "* [**质数**](https://medium.com/swlh/why-should-the-length-of-your-hash-table-be-a-prime-number-760ec65a75d1)作为**buckets**的个数\n",
    "\n",
    "* 预制**28**个质数 **53，97，193，389，769，1543，3079，6151，...**\n",
    "\n",
    "* [测试](./code/hashtable.cpp)环境\n",
    "    * **Windows 11 Visual Studio 2022 17.3.6**\n",
    "    * **WSL 2 Ubuntu 18.04 LTS, GCC 7.5.0** <font color=red>I/O非常慢</font>\n",
    "<img align=\"center\" src=\"./src/hashtbale.svg\" width=\"75%\" border=\"0\">"
   ]
  },
  {
   "cell_type": "markdown",
   "id": "de3d4327",
   "metadata": {
    "slideshow": {
     "slide_type": "subslide"
    }
   },
   "source": [
    "## **hashtable** \n",
    "\n",
    "* **hash function**\n",
    "\n",
    "* 字符串 **hash function**\n",
    "\n",
    "```c++\n",
    "template<typename Key> hash{ };\n",
    "inline size_t __stl_hash_string(const char* s) {\n",
    "    unsigned long h = 0;\n",
    "    for (; *s; ++s)\n",
    "        h = 5 * h + *s;\n",
    "    return size_t(h);\n",
    "}\n",
    "// other fundamental type\n",
    "```\n",
    "* 重载**operator()**，设计**hash function**\n",
    "\n",
    "* unordered_map<**vector<int>**, int> 怎么办？\n",
    "    * [**good hash function for vector**](https://stackoverflow.com/questions/20511347/a-good-hash-function-for-a-vector)\n",
    "    * [**LeetCode 2352 相等行列对**](https://leetcode.cn/problems/equal-row-and-column-pairs/)\n"
   ]
  },
  {
   "cell_type": "markdown",
   "id": "1726858a",
   "metadata": {
    "slideshow": {
     "slide_type": "subslide"
    }
   },
   "source": [
    "## [**hash_set**](../src/stl_hash_set.h)\n",
    "\n",
    "* **C++11**之后的头文件 **unordered_set**\n",
    "\n",
    "* **key就是value**\n",
    "\n",
    "* 大部分接口**hashtable**已提供\n",
    "\n",
    "* 迭代器类型 **forward_iterator**，不可修改\n",
    "\n",
    "```c++\n",
    "template<typename Val, typename HashFunc=hash<Val>,\n",
    "\t     typename EqualKey=equal_to<Val>,typename Alloc=alloc>\n",
    "class unordered_set {\n",
    "private:\n",
    "\ttypedef hashtable<Val, Val, HashFunc, Identity<Val>, EqualKey, Alloc>Ht;\n",
    "\tHt m_ht;\n",
    "\n",
    "public:\n",
    "\ttypedef typename Ht::key_type key_type;\n",
    "\ttypedef typename Ht::value_type value_type;\n",
    "\ttypedef typename Ht::const_pointer const_pointer;\n",
    "\ttypedef typename Ht::const_pointer pointer;\n",
    "\ttypedef typename Ht::const_reference reference;\n",
    "\ttypedef typename Ht::const_reference const_reference;\n",
    "\ttypedef typename Ht::const_iterator iterator;\n",
    "\ttypedef typename Ht::const_iterator const_iterator;\n",
    "    // ...\n",
    "\thasher hash_func()const { return m_ht.hash_fun(); }\n",
    "\tkey_equal key_eq()const { return m_ht.key_eq(); }\n",
    "// ...\n",
    "};\n",
    "```"
   ]
  },
  {
   "cell_type": "markdown",
   "id": "42c326f1",
   "metadata": {
    "slideshow": {
     "slide_type": "subslide"
    }
   },
   "source": [
    "## [**hash_map**](../src/stl_hash_map.h)\n",
    "\n",
    "* **C++11**之后的头文件 **unordered_map**\n",
    "\n",
    "*  **key**和**value**不同\n",
    "\n",
    "* **value**可修改\n",
    "\n",
    "* **value_type**是**pair**\n",
    "\n",
    "```c++\n",
    "template<typename Key, typename Tp, typename HashFun = hash<Key>,\n",
    "\ttypename EqualKey = equal_to<Key>,\n",
    "\ttypename Alloc = alloc>\n",
    "class unordered_map {\n",
    "\n",
    "private:\n",
    "\ttypedef hashtable<pair<const Key, Tp>, Key, HashFun, Select1st<pair<const Key, Tp>>, EqualKey, Alloc> Ht;\n",
    "\tHt m_ht;\n",
    "\n",
    "public:\n",
    "\ttypedef typename Ht::key_type key_type;\n",
    "\ttypedef Tp data_type;\n",
    "\ttypedef Tp mapped_type;\n",
    "\ttypedef typename Ht::value_type value_type;\n",
    "\ttypedef typename Ht::hasher hasher;\n",
    "\ttypedef typename Ht::key_equal key_equal;\n",
    "    // ...\n",
    "\ttypedef typename Ht::iterator iterator;\n",
    "\ttypedef typename Ht::const_iterator const_iterator;\n",
    "\n",
    "\tinline hasher hash_func()const { return m_ht.hash_fun(); }\n",
    "\tinline key_equal key_eq()const { return m_ht.key_eq(); }\n",
    "// ...\n",
    "};\n",
    "```"
   ]
  },
  {
   "cell_type": "markdown",
   "id": "c46b0dda",
   "metadata": {
    "slideshow": {
     "slide_type": "slide"
    }
   },
   "source": [
    "<div align='center' ><font size='70'>End</font></div>"
   ]
  }
 ],
 "metadata": {
  "celltoolbar": "幻灯片",
  "kernelspec": {
   "display_name": "Python 3 (ipykernel)",
   "language": "python",
   "name": "python3"
  },
  "language_info": {
   "codemirror_mode": {
    "name": "ipython",
    "version": 3
   },
   "file_extension": ".py",
   "mimetype": "text/x-python",
   "name": "python",
   "nbconvert_exporter": "python",
   "pygments_lexer": "ipython3",
   "version": "3.9.13"
  }
 },
 "nbformat": 4,
 "nbformat_minor": 5
}
