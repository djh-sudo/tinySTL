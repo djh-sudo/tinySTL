{
 "cells": [
  {
   "cell_type": "markdown",
   "id": "c3b65714",
   "metadata": {
    "slideshow": {
     "slide_type": "slide"
    }
   },
   "source": [
    "<div align='center' ><font size='70'>Functor</font></div>"
   ]
  },
  {
   "cell_type": "markdown",
   "id": "19bb411c",
   "metadata": {
    "slideshow": {
     "slide_type": "slide"
    }
   },
   "source": [
    "<img align=\"right\" src=\"./src/functor.png\" width=\"55%\" border=\"0\">\n",
    "\n",
    "## 仿函数 **Functor**\n",
    "\n",
    "* 最后一部分！~~轻松愉快~~\n",
    "\n",
    "* 仿函数是一种特殊的对象\n",
    "\n",
    "* 它的行为类似函数，可以作为函数使用\n",
    "\n",
    "* 许多算法都有**仿函数**参数"
   ]
  },
  {
   "cell_type": "markdown",
   "id": "3cc5ae55",
   "metadata": {
    "slideshow": {
     "slide_type": "subslide"
    }
   },
   "source": [
    "## 类别\n",
    "\n",
    "* 算术类(**Arithmetic**)仿函数\n",
    "    * 加法(**Plus**)\n",
    "    * 减法(**Minus**)\n",
    "    * 乘法(**Multiplies**)\n",
    "\n",
    "* 关系类(**Relational**)仿函数\n",
    "    * 等于(**Equal_to**)\n",
    "    * 不等于(**Not_equal_to**)\n",
    "\n",
    "* 逻辑类(**Logical**)仿函数\n",
    "    * 逻辑与(**Logical_and**)\n",
    "    * 逻辑或(**Logical_or**)\n",
    "    * 逻辑非(**Logical_not**)"
   ]
  },
  {
   "cell_type": "markdown",
   "id": "26ccf0f6",
   "metadata": {
    "slideshow": {
     "slide_type": "slide"
    }
   },
   "source": [
    "## **Conclusion**\n",
    "\n",
    "* ~~**STL**也没有想象的那么困难~~\n",
    "\n",
    "* 对于**Algorithm**部分和**红黑树**部分介绍的偏少\n",
    "\n",
    "* 但是**STL**的内容还是很多的\n",
    "\n",
    "* 对感兴趣部分可以去翻阅源代码"
   ]
  },
  {
   "cell_type": "markdown",
   "id": "25a3247a",
   "metadata": {
    "slideshow": {
     "slide_type": "slide"
    }
   },
   "source": [
    "<div align='center' ><font size='70'>End(终)</font></div>"
   ]
  }
 ],
 "metadata": {
  "celltoolbar": "幻灯片",
  "kernelspec": {
   "display_name": "Python 3 (ipykernel)",
   "language": "python",
   "name": "python3"
  },
  "language_info": {
   "codemirror_mode": {
    "name": "ipython",
    "version": 3
   },
   "file_extension": ".py",
   "mimetype": "text/x-python",
   "name": "python",
   "nbconvert_exporter": "python",
   "pygments_lexer": "ipython3",
   "version": "3.9.13"
  }
 },
 "nbformat": 4,
 "nbformat_minor": 5
}
