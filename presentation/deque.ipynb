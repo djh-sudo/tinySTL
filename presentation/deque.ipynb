{
 "cells": [
  {
   "cell_type": "markdown",
   "id": "6ef22098",
   "metadata": {
    "slideshow": {
     "slide_type": "slide"
    }
   },
   "source": [
    "<div align='center' ><font size='70'>Deque</font></div>"
   ]
  },
  {
   "cell_type": "markdown",
   "id": "24e31c0d",
   "metadata": {
    "slideshow": {
     "slide_type": "slide"
    }
   },
   "source": [
    "<img align=\"right\" src=\"./src/deque.png\" width=\"50%\" border=\"0\">\n",
    "\n",
    "## 双端队列 **deque**\n",
    "\n",
    "* [How to pronounce deque?](https://cplusplus.com/reference/deque/deque/) **\"deck\"**\n",
    "\n",
    "* 此队列非彼队列，不是**std::queue**\n",
    "\n",
    "* 存储特性\n",
    "    * 可以采用**operator[]**访问，**连续？**\n",
    "    * 与**vector**区别？\n",
    "    * 常数时间**首尾**插入删除元素\n",
    "\n",
    "* 迭代器\n",
    "    * 序列容器中最复杂的一种\n",
    "    * 对外模拟**连续性**\n",
    "    * **失效**？[**[deque.cpp]**](./code/deque.cpp)\n"
   ]
  },
  {
   "cell_type": "markdown",
   "id": "e706ba60",
   "metadata": {
    "slideshow": {
     "slide_type": "subslide"
    }
   },
   "source": [
    "<img align=\"right\" src=\"./src/deque-map.png\" width=\"52%\" border=\"0\">\n",
    "\n",
    "## **deque** 基本实现\n",
    "\n",
    "* **deque** 由一段一段的**定量连续**空间构成\n",
    "\n",
    "* 中央控制器**map**，其实是一个二级指针**T\\*\\***\n",
    "\n",
    "* 每个**map**节点指向一段**连续**空间（**buffer**）\n",
    "\n",
    "* **buffer**空间是连续的（部分连续）\n",
    "\n",
    "* **虚假**的连续性由**迭代器**维护"
   ]
  },
  {
   "cell_type": "markdown",
   "id": "f9a4a816",
   "metadata": {
    "slideshow": {
     "slide_type": "subslide"
    }
   },
   "source": [
    "## **deque** 的迭代器\n",
    "\n",
    "* 迭代器类型为 **Random Access Iterator**\n",
    "\n",
    "* **BufferSize**默认是**0**，表示**buffer**大小由**元素大小**决定，最大为**512 bytes**\n",
    "\n",
    "```c++\n",
    "template <typename T, typename Ref, typename Ptr, size_t BufferSize>\n",
    "struct __deque_iterator {\n",
    "    typedef __deque_iterator<T, T&, T*, BufferSize> iterator;\n",
    "    typedef __deque_iterator<T, const T&, const T*, BufferSize> const_iterator;\n",
    "    static size_t buffer_size() { return __deque_buf_size(BufferSize, sizeof(T)); }\n",
    "    typedef random_access_iterator_tag iterator_category;\n",
    "    typedef T value_type;\n",
    "    typedef Ptr pointer;\n",
    "    typedef Ref reference;\n",
    "    typedef size_t size_type;\n",
    "    typedef ptrdiff_t difference_type;\n",
    "    typedef T** map_pointer;\n",
    "    typedef __deque_iterator self;\n",
    "\n",
    "    T* cur;\n",
    "    T* first;\n",
    "    T* last;\n",
    "    map_pointer node;\n",
    "};\n",
    "```"
   ]
  },
  {
   "cell_type": "markdown",
   "id": "b38fa7f6",
   "metadata": {
    "slideshow": {
     "slide_type": "subslide"
    }
   },
   "source": [
    "<img align=\"right\" src=\"./src/deque_iterator.png\" width=\"52%\" border=\"0\">\n",
    "\n",
    "## **deque** 的[迭代器](../src/stl_deque.h)\n",
    "\n",
    "* **first**和**last**分别指向当前**buffer**的头和尾\n",
    "\n",
    "* **cur**指向当前**buffer**中的某个元素\n",
    "\n",
    "* **node**指向**map**中的某个节点\n",
    "\n",
    "* 重载运算符\n",
    "\n",
    "> **operator++**, **operator--**, **operator+**, **operator-**, **operator+=**, **operator-=**, **operator[]**"
   ]
  },
  {
   "cell_type": "markdown",
   "id": "3ac9c114",
   "metadata": {
    "slideshow": {
     "slide_type": "slide"
    }
   },
   "source": [
    "## **deque**的[数据结构](../src/stl_deque.h)\n",
    "\n",
    "* **start**，**finish**分别指向**map**中的第一个和最后一个节点\n",
    "\n",
    "* **map**是一个**T\\*\\***类型的指针数组\n",
    "\n",
    "* **map_size**存储**map**大小\n",
    "\n",
    "```c++\n",
    "template<typename Tp, typename Alloc>\n",
    "class deque_base {\n",
    "public:\n",
    "\ttypedef deque_iterator<Tp, Tp&, Tp*>             iterator;\n",
    "\ttypedef deque_iterator<Tp, const Tp&, const Tp*> const_iterator;\n",
    "\ttypedef Alloc allocator_type;\n",
    "// ...\n",
    "protected:\n",
    "\tTp** m_map;\n",
    "\tsize_t m_map_size;\n",
    "\titerator m_start;\n",
    "\titerator m_finish;\n",
    "};\n",
    "\n",
    "// deque\n",
    "template<typename Tp, typename Alloc=alloc>\n",
    "class deque :protected deque_base<Tp, Alloc> {\n",
    "\n",
    "private:\n",
    "\ttypedef deque_base<Tp, Alloc> Base;\n",
    "public:\n",
    "\ttypedef Tp        value_type;\n",
    "\ttypedef Tp*       pointer;\n",
    "\ttypedef const Tp* const_pointer;\n",
    "\ttypedef Tp&       reference;\n",
    "\ttypedef const Tp& const_reference;\n",
    "\ttypedef size_t    size_type;\n",
    "\ttypedef ptrdiff_t difference_type;\n",
    "// ...\n",
    "};\n",
    "```\n"
   ]
  },
  {
   "cell_type": "markdown",
   "id": "e3973190",
   "metadata": {
    "slideshow": {
     "slide_type": "subslide"
    }
   },
   "source": [
    "## **deque** [内存管理](../src/stl_deque.h)\n",
    "\n",
    "* 如何做到双端插入都是常数时间\n",
    "\n",
    "* 数据总是放中间，**前后**预留相当的空间\n",
    "\n",
    "```c++\n",
    "enum { INITIAL_MAP_SIZE = 8 };\n",
    "void initialize_map(size_t num_elements) {\n",
    "\tsize_t num_nodes = num_elements / buf_size(sizeof(Tp)) + 1;\n",
    "\tm_map_size = max((size_t)INITIAL_MAP_SIZE, num_nodes + 2);\n",
    "\t// allocate memory\n",
    "\tm_map = allocate_map(m_map_size);\n",
    "\tTp** start = m_map + (m_map_size - num_nodes) / 2;\n",
    "\tTp** finish = start + num_nodes;\n",
    "\tcreate_node(start, finish);\n",
    "\tm_start.set_node(start);\n",
    "\tm_finish.set_node(finish - 1);\n",
    "\tm_start.m_cur = m_start.m_first;\n",
    "\tm_finish.m_cur = m_finish.m_first + num_elements % buf_size(sizeof(Tp));\n",
    "}\n",
    "void create_node(Tp** start, Tp** finish) {\n",
    "\tTp** cur = nullptr;\n",
    "\tfor (cur = start; cur < finish; ++cur) {\n",
    "\t\t*cur = allocate_node();\n",
    "\t}\n",
    "}\n",
    "```\n",
    "\n",
    "\n"
   ]
  },
  {
   "cell_type": "markdown",
   "id": "ec9e0bbe",
   "metadata": {
    "slideshow": {
     "slide_type": "subslide"
    }
   },
   "source": [
    "<img align=\"right\" src=\"./src/deque_node_map.png\" width=\"52%\" border=\"0\">\n",
    "\n",
    "## **push_back** 实现\n",
    "\n",
    "* **push_front**实现类似\n",
    "\n",
    "* **deque**同样支持任意位置**插入**和**删除**\n",
    "\n",
    "* 同样面临**copy**和**move**元素问题\n",
    "\n",
    "* 与**vector**类似\n",
    "\n",
    "* 是**stack**和**queue**默认容器（**Adaptor**）\n",
    "\n",
    "```c++\n",
    "void push_back(const value_type& value) {\n",
    "    if (m_finish.m_cur != m_finish.m_last - 1) {\n",
    "        construct(m_finish.m_cur, value);\n",
    "        ++m_finish.m_cur;\n",
    "    }\n",
    "    else {\n",
    "        push_back_aux(value);\n",
    "    }\n",
    "}\n",
    "// auxillary function\n",
    "void push_back_aux(const value_type& value) {\n",
    "    value_type value_copy = value;\n",
    "    reserve_map_at_back();\n",
    "    *(m_finish.m_node + 1) = allocate_node();\n",
    "    construct(m_finish.m_cur, value_copy);\n",
    "    m_finish.set_node(m_finish.m_node + 1);\n",
    "    m_finish.m_cur = m_finish.m_first;\n",
    "}\n",
    "```"
   ]
  },
  {
   "cell_type": "markdown",
   "id": "9e65e12a",
   "metadata": {
    "slideshow": {
     "slide_type": "slide"
    }
   },
   "source": [
    "<div align='center' ><font size='70'>Adaptor</font></div>"
   ]
  },
  {
   "cell_type": "markdown",
   "id": "92ed80bb",
   "metadata": {
    "slideshow": {
     "slide_type": "subslide"
    }
   },
   "source": [
    "## **stack**和**queue**的实现\n",
    "\n",
    "* **stack**\n",
    "    <img align=\"right\" src=\"./src/stack.png\" width=\"52%\" border=\"0\">\n",
    "    * **First In Last Out FILO**\n",
    "    * 没有迭代器\n",
    "\n",
    "* **queue**\n",
    "    <img align=\"right\" src=\"./src/queue.png\" width=\"52%\" border=\"0\">\n",
    "    * **First In First Out FIFO**\n",
    "    * 没有迭代器\n",
    "    \n",
    "\n",
    "* 二者默认的容器都是**deque**\n",
    "\n",
    "* **Review** 其他容器可以吗？\n",
    "\n",
    "* 源代码**十分**简短，~~可以自己动手尝试~~"
   ]
  },
  {
   "cell_type": "markdown",
   "id": "b72ac059",
   "metadata": {
    "slideshow": {
     "slide_type": "subslide"
    }
   },
   "source": [
    "## 优先队列 **priority queue**\n",
    "\n",
    "* 和**queue**区别？\n",
    "\n",
    "* **queue**是**FIFO**，**priority queue**是**优先级**高的先出\n",
    "\n",
    "## 堆 **heap**\n",
    "<img align=\"right\" src=\"./src/complete-binary-tree.png\" width=\"42%\" border=\"0\">\n",
    "\n",
    "* 与**Operating System**中的**heap**不是一个概念\n",
    "\n",
    "* **heap**是一种**完全二叉树**，**最大堆**和**最小堆**\n",
    "\n",
    "* 树一定要使用指针结构吗？\n",
    "\n",
    "* [**heap**](../src/stl_heap.h)更像是**算法**"
   ]
  },
  {
   "cell_type": "markdown",
   "id": "b4d6183a",
   "metadata": {
    "slideshow": {
     "slide_type": "subslide"
    }
   },
   "source": [
    "## **priority queue**\n",
    "\n",
    "* 默认容器是**vector**\n",
    "\n",
    "* 不提供**迭代器**\n",
    "\n",
    "* 可以自定义比较函数 **Functor**\n",
    "\n",
    "* 源码简短，~~可以自己动手尝试~~\n",
    "\n",
    "* **max-heap** **less<int>**，**min-heap** **greater<int>**\n",
    "\n",
    "* 似乎和**sort**是相反的？\n",
    "\n",
    "## 单向链表 **slist**\n",
    "\n",
    "* 很少采用，**list**更常用 **非标准**\n",
    "\n",
    "* ~~分析略~~\n"
   ]
  },
  {
   "cell_type": "markdown",
   "id": "94e2ba00",
   "metadata": {
    "slideshow": {
     "slide_type": "slide"
    }
   },
   "source": [
    "<div align='center' ><font size='70'>End</font></div>"
   ]
  }
 ],
 "metadata": {
  "celltoolbar": "幻灯片",
  "kernelspec": {
   "display_name": "Python 3 (ipykernel)",
   "language": "python",
   "name": "python3"
  },
  "language_info": {
   "codemirror_mode": {
    "name": "ipython",
    "version": 3
   },
   "file_extension": ".py",
   "mimetype": "text/x-python",
   "name": "python",
   "nbconvert_exporter": "python",
   "pygments_lexer": "ipython3",
   "version": "3.9.13"
  }
 },
 "nbformat": 4,
 "nbformat_minor": 5
}
